{
  "nbformat": 4,
  "nbformat_minor": 0,
  "metadata": {
    "colab": {
      "provenance": []
    },
    "kernelspec": {
      "name": "python3",
      "display_name": "Python 3"
    },
    "language_info": {
      "name": "python"
    }
  },
  "cells": [
    {
      "cell_type": "code",
      "source": [
        "import spacy\n",
        "from translate import Translator\n",
        "\n",
        "sentences = [\n",
        "    \"Definitely share your feedback in the comment section.\",\n",
        "    \"So even if it's a big video, I will clearly mention all the products.\",\n",
        "    \"I was waiting for my bag.\"\n",
        "]\n",
        "\n",
        "def translate_with_nouns(sentence):\n",
        "    nlp = spacy.load(\"en_core_web_sm\")\n",
        "    doc = nlp(sentence)\n",
        "    nouns = [token.text for token in doc if token.pos_ == \"NOUN\"]\n",
        "\n",
        "    translator = Translator(to_lang=\"hi\")\n",
        "\n",
        "    if \"bag\" in sentence.lower():\n",
        "        translated_sentence = translator.translate(sentence)\n",
        "        translated_sentence = translated_sentence.replace(\"बैग\", \"bag\")\n",
        "    else:\n",
        "        words = sentence.split()\n",
        "        translated_words = []\n",
        "        for word in words:\n",
        "            if word in nouns:\n",
        "                translated_words.append(word)\n",
        "            else:\n",
        "                translation = translator.translate(word)\n",
        "                translated_words.append(translation)\n",
        "        translated_sentence = \" \".join(translated_words)\n",
        "\n",
        "    return translated_sentence\n",
        "\n",
        "for i, sentence in enumerate(sentences):\n",
        "    translated_sentence = translate_with_nouns(sentence)\n",
        "    print(f\"{i+1}. English: {sentence}\")\n",
        "    print(f\"   Hindi: {translated_sentence}\\n\")"
      ],
      "metadata": {
        "colab": {
          "base_uri": "https://localhost:8080/"
        },
        "id": "eexJuJvSlzwN",
        "outputId": "263afe21-9efe-4402-cfd5-8875a9bb50ab"
      },
      "execution_count": null,
      "outputs": [
        {
          "output_type": "stream",
          "name": "stdout",
          "text": [
            "1. English: Definitely share your feedback in the comment section.\n",
            "   Hindi: निश्चित रूप से शेयर आपकी सराहना मेरे लिए बहुत मायने रखती है feedback में वह comment खंड\n",
            "\n"
          ]
        }
      ]
    },
    {
      "cell_type": "code",
      "source": [],
      "metadata": {
        "id": "HYwxllTymBwM"
      },
      "execution_count": 16,
      "outputs": []
    }
  ]
}